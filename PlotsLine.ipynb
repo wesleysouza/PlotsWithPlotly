{
 "cells": [
  {
   "cell_type": "code",
   "execution_count": null,
   "metadata": {},
   "outputs": [],
   "source": [
    "import plotly.graph_objects as go\n",
    "\n",
    "i_10_10_ga = [179.37, 178.36, 173.95, 182.9, 176.84]\n",
    "i_10_10_hc = [217.8, 216.4, 216.35, 216.35, 210.3]\n",
    "i_10_20_ga = [280.9, 284.2, 275.08, 271.49, 282.34, 280.9]\n",
    "\n",
    "fig = go.Figure()\n",
    "fig.add_trace(go.Box(y=i_10_10_ga, name='Ind-10-10-GA'))\n",
    "fig.add_trace(go.Box(y=i_10_10_hc, name ='Ind-10-10-HC'))\n",
    "fig.update_layout(\n",
    "    yaxis_title='Milesimos de segundo',\n",
    "    boxmode='group' # group together boxes of the different traces for each value of x,\n",
    ")\n",
    "fig.show()\n",
    "fig.write_image(\"fig1.pdf\")\n"
   ]
  }
 ],
 "metadata": {
  "kernelspec": {
   "display_name": "Python 3",
   "language": "python",
   "name": "python3"
  },
  "language_info": {
   "codemirror_mode": {
    "name": "ipython",
    "version": 3
   },
   "file_extension": ".py",
   "mimetype": "text/x-python",
   "name": "python",
   "nbconvert_exporter": "python",
   "pygments_lexer": "ipython3",
   "version": "3.8.5"
  }
 },
 "nbformat": 4,
 "nbformat_minor": 4
}
